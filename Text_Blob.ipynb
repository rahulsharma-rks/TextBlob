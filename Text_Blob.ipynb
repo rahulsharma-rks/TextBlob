{
 "cells": [
  {
   "cell_type": "code",
   "execution_count": 1,
   "metadata": {},
   "outputs": [
    {
     "name": "stdout",
     "output_type": "stream",
     "text": [
      "Collecting textblob\n",
      "  Downloading textblob-0.15.3-py2.py3-none-any.whl (636 kB)\n",
      "Requirement already satisfied: nltk>=3.1 in c:\\users\\rahul\\anaconda3\\lib\\site-packages (from textblob) (3.5)\n",
      "Requirement already satisfied: regex in c:\\users\\rahul\\anaconda3\\lib\\site-packages (from nltk>=3.1->textblob) (2020.10.15)\n",
      "Requirement already satisfied: tqdm in c:\\users\\rahul\\anaconda3\\lib\\site-packages (from nltk>=3.1->textblob) (4.50.2)\n",
      "Requirement already satisfied: joblib in c:\\users\\rahul\\anaconda3\\lib\\site-packages (from nltk>=3.1->textblob) (0.17.0)\n",
      "Requirement already satisfied: click in c:\\users\\rahul\\anaconda3\\lib\\site-packages (from nltk>=3.1->textblob) (7.1.2)\n",
      "Installing collected packages: textblob\n",
      "Successfully installed textblob-0.15.3\n"
     ]
    }
   ],
   "source": [
    "#https://textblob.readthedocs.io/en/dev/\n",
    "!pip install textblob"
   ]
  },
  {
   "cell_type": "code",
   "execution_count": 65,
   "metadata": {},
   "outputs": [
    {
     "data": {
      "text/plain": [
       "TextBlob(\"I have good spelling!\")"
      ]
     },
     "execution_count": 65,
     "metadata": {},
     "output_type": "execute_result"
    }
   ],
   "source": [
    "from textblob import TextBlob\n",
    "#Spelling Correction\n",
    "b = TextBlob(\"I havv goood speling!\")\n",
    "b.correct()"
   ]
  },
  {
   "cell_type": "code",
   "execution_count": 66,
   "metadata": {},
   "outputs": [
    {
     "data": {
      "text/plain": [
       "TextBlob(\"I learn Pythonn.\")"
      ]
     },
     "execution_count": 66,
     "metadata": {},
     "output_type": "execute_result"
    }
   ],
   "source": [
    "b1 = TextBlob(\"I larn Pythonn.\")\n",
    "b1.correct()"
   ]
  },
  {
   "cell_type": "code",
   "execution_count": 67,
   "metadata": {},
   "outputs": [
    {
     "data": {
      "text/plain": [
       "TextBlob(\"Jupiter Notebook can show suggestion for any function name or variable. To view suggestions writing tying \n",
       "              the code press Cab in your keyboard and the suggestion will appear in a top-down menu. Dress arrow-upon \n",
       "              arrow-down key to roll up or down the menu. You can also stroll using your mouse. Click on the eyford or \n",
       "              hit enter on the selected eyford to confirm your suggestion.\")"
      ]
     },
     "execution_count": 67,
     "metadata": {},
     "output_type": "execute_result"
    }
   ],
   "source": [
    "b2 = TextBlob('''Jupyter Notebook can show sugestion for any funcion name or varable. To view suggestions writting typing \n",
    "              the code presss Tab in your keyboard and the sugggestion will apear in a top-down menu. Press arrow-upor \n",
    "              arrow-down key to sroll up or down the menu. You can also scroll using your mouse. Click on the keyword or \n",
    "              hitt enter on the selected keyword to connfirm your suggestion.''')\n",
    "b2.correct()"
   ]
  },
  {
   "cell_type": "code",
   "execution_count": 68,
   "metadata": {},
   "outputs": [
    {
     "data": {
      "text/plain": [
       "3"
      ]
     },
     "execution_count": 68,
     "metadata": {},
     "output_type": "execute_result"
    }
   ],
   "source": [
    "b3 = TextBlob(\"We are no longer the Knights who say Ni. \"\n",
    "                \"We are now the Knights who say Ekki ekki ekki PTANG.\")\n",
    "b3.word_counts['ekki']"
   ]
  },
  {
   "cell_type": "code",
   "execution_count": 69,
   "metadata": {},
   "outputs": [
    {
     "data": {
      "text/plain": [
       "TextBlob(\"Python is a high-level and general-purpose programming language.\")"
      ]
     },
     "execution_count": 69,
     "metadata": {},
     "output_type": "execute_result"
    }
   ],
   "source": [
    "b4 = TextBlob(\"Python is a high-level and general-purpose programming language.\")\n",
    "b4.correct()"
   ]
  },
  {
   "cell_type": "code",
   "execution_count": 90,
   "metadata": {},
   "outputs": [
    {
     "data": {
      "text/plain": [
       "[('Python', 'NNP'),\n",
       " ('is', 'VBZ'),\n",
       " ('a', 'DT'),\n",
       " ('high-level', 'JJ'),\n",
       " ('and', 'CC'),\n",
       " ('general-purpose', 'JJ'),\n",
       " ('programming', 'NN'),\n",
       " ('language', 'NN')]"
      ]
     },
     "execution_count": 90,
     "metadata": {},
     "output_type": "execute_result"
    }
   ],
   "source": [
    "#Returns an list of tuples of the form (word, POS tag).\n",
    "\"\"\"List of the tags and what they mean:\n",
    "DT determiner\n",
    "EX existential there (like: “there is” … think of it like “there exists”)\n",
    "FW foreign word\n",
    "IN preposition/subordinating conjunction\n",
    "JJ adjective ‘big’\n",
    "JJR adjective, comparative ‘bigger’\n",
    "JJS adjective, superlative ‘biggest’\n",
    "LS list marker 1)\n",
    "MD modal could, will\n",
    "NN noun, singular ‘desk’\n",
    "RBR adverb, comparative better\n",
    "RBS adverb, superlative best\n",
    "NNS noun plural ‘desks’\n",
    "NNP proper noun, singular ‘Harrison’\n",
    "NNPS proper noun, plural ‘Americans’\n",
    "PDT predeterminer ‘all the kids’\n",
    "POS possessive ending parent‘s\n",
    "PRP personal pronoun I, he, she\n",
    "PRP$ possessive pronoun my, his, hers\n",
    "RB adverb very, silently,\n",
    "RP particle give up\n",
    "TO to go ‘to‘ the store.\n",
    "UH interjection errrrrrrrm\n",
    "VB verb, base form take\n",
    "VBD verb, past tense took\n",
    "CC coordinating conjunction\n",
    "CD cardinal digit\n",
    "VBG verb, gerund/present participle taking\n",
    "VBN verb, past participle taken\n",
    "VBP verb, sing. present, non-3d take\n",
    "VBZ verb, 3rd person sing. present takes\n",
    "WDT wh-determiner which\n",
    "WP wh-pronoun who, what\n",
    "WP$ possessive wh-pronoun whose\n",
    "WRB wh-abverb where, when \"\"\"\n",
    "b4.tags"
   ]
  },
  {
   "cell_type": "code",
   "execution_count": 91,
   "metadata": {},
   "outputs": [
    {
     "data": {
      "text/plain": [
       "WordList(['python'])"
      ]
     },
     "execution_count": 91,
     "metadata": {},
     "output_type": "execute_result"
    }
   ],
   "source": [
    "#noun phrases\n",
    "b4.noun_phrases"
   ]
  },
  {
   "cell_type": "code",
   "execution_count": 92,
   "metadata": {},
   "outputs": [
    {
     "name": "stdout",
     "output_type": "stream",
     "text": [
      "Sentences: [Sentence(\"Beautiful and ugly is better.\"), Sentence(\"Explicit is better than implicit.\"), Sentence(\"Simple is better than complex.\")]\n",
      "Words: ['Beautiful', 'and', 'ugly', 'is', 'better', 'Explicit', 'is', 'better', 'than', 'implicit', 'Simple', 'is', 'better', 'than', 'complex']\n"
     ]
    }
   ],
   "source": [
    "#Tokenization\n",
    "\n",
    "#Sentence\n",
    "b5 = TextBlob('''Beautiful and ugly is better. \n",
    "                Explicit is better than implicit. \n",
    "              Simple is better than complex.\n",
    "''')\n",
    "print(\"Sentences:\",b5.sentences)\n",
    "#WordList\n",
    "print(\"Words:\",b5.words)"
   ]
  },
  {
   "cell_type": "code",
   "execution_count": 93,
   "metadata": {},
   "outputs": [
    {
     "name": "stdout",
     "output_type": "stream",
     "text": [
      "['precisely and clearly expressed or readily observable; leaving nothing to implication', 'in accordance with fact or the primary meaning of a term']\n"
     ]
    }
   ],
   "source": [
    "#Defination of word\n",
    "from textblob import Word\n",
    "a = Word(\"Explicit\")\n",
    "print(a.definitions)"
   ]
  },
  {
   "cell_type": "code",
   "execution_count": 94,
   "metadata": {},
   "outputs": [
    {
     "name": "stdout",
     "output_type": "stream",
     "text": [
      "Sentiment(polarity=0.19285714285714284, subjectivity=0.6081632653061224)\n",
      "0.6081632653061224\n",
      "0.19285714285714284\n"
     ]
    }
   ],
   "source": [
    "#Sentiment Analysis\n",
    "''' sentiment will return 2 values in a tuple:\n",
    "\n",
    "    Polarity: Takes a value between -1 and +1. -1 suggests a very negative language and +1 suggests a very positive language. \n",
    "\n",
    "    Subjectivity: Takes a value between 0 and +1. 0 suggests maximum objectivity possible and +1 suggests a very subjective \n",
    "    text. '''\n",
    "senti_ment = b5.sentiment\n",
    "print(senti_ment)\n",
    "\n",
    "sub = b5.sentiment.subjectivity\n",
    "print(sub)\n",
    "\n",
    "pol = b5.sentiment.polarity\n",
    "print(pol)"
   ]
  },
  {
   "cell_type": "code",
   "execution_count": 95,
   "metadata": {},
   "outputs": [
    {
     "name": "stdout",
     "output_type": "stream",
     "text": [
      "Words: ['Elon', 'Musk', 'is', 'the', 'CEOs', 'of', 'Tesla', 'and', 'many', 'other', 'company']\n",
      "Singular: CEO\n",
      "Plural: companies\n"
     ]
    }
   ],
   "source": [
    "#Inflection\n",
    "''' A change in or addition to the form of a word that shows a change in the way it is used in sentences:\n",
    "    If you add the plural inflection \"-s\" to \"dog\" you get \"dogs\" '''\n",
    "sentence = TextBlob(\"Elon Musk is the CEOs of Tesla and many other company.\")\n",
    "print(\"Words:\",sentence.words)\n",
    "print(\"Singular:\",sentence.words[4].singularize())\n",
    "print(\"Plural:\",sentence.words[-1].pluralize())"
   ]
  },
  {
   "cell_type": "code",
   "execution_count": 96,
   "metadata": {},
   "outputs": [
    {
     "name": "stdout",
     "output_type": "stream",
     "text": [
      "octopus\n",
      "go\n",
      "bad\n"
     ]
    }
   ],
   "source": [
    "#Lemmatize\n",
    "''' Reduce the different forms of a word to one single form, \n",
    "    for example, reducing \"builds\", \"building\",or \"built\" to the lemma \"build\" \n",
    "    Playing, Played,Plays have common root form Play\n",
    "    '''\n",
    "from textblob import Word\n",
    "w1 = Word(\"octopi\")\n",
    "print(w1.lemmatize())\n",
    "\n",
    "w2 = Word(\"went\")\n",
    "print(w2.lemmatize(\"v\"))\n",
    "\n",
    "w3 = Word(\"worse\")\n",
    "print(w3.lemmatize(\"a\"))"
   ]
  },
  {
   "cell_type": "code",
   "execution_count": 97,
   "metadata": {},
   "outputs": [
    {
     "name": "stdout",
     "output_type": "stream",
     "text": [
      "Synset name :   hello.n.01\n",
      "\n",
      "Synset meaning :  an expression of greeting\n",
      "\n",
      "Synset example :  ['every morning they exchanged polite hellos']\n"
     ]
    }
   ],
   "source": [
    "#WordNet--Sysnet\n",
    "from nltk.corpus import wordnet \n",
    "sys = wordnet.synsets('hello')[0]\n",
    "  \n",
    "print (\"Synset name :  \", sys.name()) \n",
    "# Defining \n",
    "print (\"\\nSynset meaning : \", sys.definition()) \n",
    "# list of phrases that use the word in context \n",
    "print (\"\\nSynset example : \", sys.examples()) "
   ]
  },
  {
   "cell_type": "code",
   "execution_count": 98,
   "metadata": {},
   "outputs": [
    {
     "name": "stdout",
     "output_type": "stream",
     "text": [
      "Syn tag :  n\n",
      "Syn tag :  v\n",
      "Syn tag :  n\n",
      "Syn tag :  r\n"
     ]
    }
   ],
   "source": [
    "sys_1 = wordnet.synsets('hello')[0] \n",
    "print (\"Syn tag : \", sys_1.pos()) \n",
    "  \n",
    "sys_2 = wordnet.synsets('doing')[0] \n",
    "print (\"Syn tag : \", sys_2.pos()) \n",
    "  \n",
    "sys_3 = wordnet.synsets('modification')[0] \n",
    "print (\"Syn tag : \", sys_3.pos()) \n",
    "  \n",
    "sys_4 = wordnet.synsets('really')[0] \n",
    "print (\"Syn tag : \", sys_4.pos()) "
   ]
  },
  {
   "cell_type": "code",
   "execution_count": 99,
   "metadata": {},
   "outputs": [
    {
     "name": "stdout",
     "output_type": "stream",
     "text": [
      "Reduce/VB/B-VP/O the/DT/B-NP/O different/JJ/I-NP/O forms/NNS/I-NP/O of/IN/B-PP/B-PNP a/DT/B-NP/I-PNP word/NN/I-NP/I-PNP to/TO/B-PP/B-PNP one/CD/B-NP/I-PNP single/JJ/I-NP/I-PNP form/NN/I-NP/I-PNP ././O/O\n"
     ]
    }
   ],
   "source": [
    "#Parsing:To analyze (a sentence) in terms of grammatical constituents, identifying the parts of speech, syntactic relations.\n",
    "b6= TextBlob(\"Reduce the different forms of a word to one single form.\")\n",
    "print(b6.parse())\n"
   ]
  },
  {
   "cell_type": "code",
   "execution_count": 100,
   "metadata": {},
   "outputs": [
    {
     "data": {
      "text/plain": [
       "[WordList(['Somethings', 'is', 'better']),\n",
       " WordList(['is', 'better', 'than']),\n",
       " WordList(['better', 'than', 'nothing'])]"
      ]
     },
     "execution_count": 100,
     "metadata": {},
     "output_type": "execute_result"
    }
   ],
   "source": [
    "#n-grams --Method returns a list of tuples of n successive words.\n",
    "b7 = TextBlob(\"Somethings is better than nothing.\")\n",
    "b7.ngrams(n=3)"
   ]
  },
  {
   "cell_type": "code",
   "execution_count": null,
   "metadata": {},
   "outputs": [],
   "source": []
  }
 ],
 "metadata": {
  "kernelspec": {
   "display_name": "Python 3",
   "language": "python",
   "name": "python3"
  },
  "language_info": {
   "codemirror_mode": {
    "name": "ipython",
    "version": 3
   },
   "file_extension": ".py",
   "mimetype": "text/x-python",
   "name": "python",
   "nbconvert_exporter": "python",
   "pygments_lexer": "ipython3",
   "version": "3.8.5"
  }
 },
 "nbformat": 4,
 "nbformat_minor": 4
}
